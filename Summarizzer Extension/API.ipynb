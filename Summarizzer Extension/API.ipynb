{
 "cells": [
  {
   "cell_type": "code",
   "execution_count": 2,
   "metadata": {},
   "outputs": [
    {
     "name": "stdout",
     "output_type": "stream",
     "text": [
      " * Serving Flask app '__main__'\n",
      " * Debug mode: off\n"
     ]
    },
    {
     "name": "stderr",
     "output_type": "stream",
     "text": [
      "WARNING: This is a development server. Do not use it in a production deployment. Use a production WSGI server instead.\n",
      " * Running on http://127.0.0.1:5001\n",
      "Press CTRL+C to quit\n",
      "Your max_length is set to 150, but your input_length is only 4. Since this is a summarization task, where outputs shorter than the input are typically wanted, you might consider decreasing max_length manually, e.g. summarizer('...', max_length=2)\n",
      "127.0.0.1 - - [08/Dec/2024 23:24:31] \"POST /summarize-text HTTP/1.1\" 200 -\n",
      "Your max_length is set to 150, but your input_length is only 4. Since this is a summarization task, where outputs shorter than the input are typically wanted, you might consider decreasing max_length manually, e.g. summarizer('...', max_length=2)\n",
      "127.0.0.1 - - [08/Dec/2024 23:24:56] \"POST /summarize-text HTTP/1.1\" 200 -\n"
     ]
    }
   ],
   "source": [
    "from flask import Flask, request, jsonify\n",
    "from transformers import pipeline, BartTokenizer\n",
    "import pdfplumber\n",
    "import requests\n",
    "from bs4 import BeautifulSoup\n",
    "\n",
    "app = Flask(__name__)\n",
    "\n",
    "# Initialize the summarizer and tokenizer\n",
    "summarizer = pipeline(\"summarization\", model=\"facebook/bart-large-cnn\")\n",
    "tokenizer = BartTokenizer.from_pretrained(\"facebook/bart-large-cnn\")\n",
    "\n",
    "def summarize_text_in_chunks(text, max_length=150, min_length=50):\n",
    "    \"\"\"\n",
    "    Summarizes large text by splitting it into chunks and summarizing each chunk.\n",
    "    \"\"\"\n",
    "    chunks = [text[i:i+1000] for i in range(0, len(text), 1000)]\n",
    "    summaries = []\n",
    "    for chunk in chunks:\n",
    "        try:\n",
    "            summary = summarizer(chunk, max_length=max_length, min_length=min_length)\n",
    "            summaries.append(summary[0]['summary_text'])\n",
    "        except Exception as e:\n",
    "            print(f\"Error summarizing chunk: {e}\")\n",
    "    return \" \".join(summaries)\n",
    "\n",
    "@app.route('/summarize-text', methods=['POST'])\n",
    "def summarize_text():\n",
    "    data = request.json\n",
    "    text = data.get(\"text\", \"\")\n",
    "    if not text.strip():\n",
    "        return jsonify({\"error\": \"No text provided\"}), 400\n",
    "    try:\n",
    "        summary = summarize_text_in_chunks(text)\n",
    "        return jsonify({\"summary\": summary})\n",
    "    except Exception as e:\n",
    "        return jsonify({\"error\": str(e)}), 500\n",
    "\n",
    "@app.route('/summarize-pdf', methods=['POST'])\n",
    "def summarize_pdf():\n",
    "    file = request.files.get('file')\n",
    "    if not file:\n",
    "        return jsonify({\"error\": \"No PDF file provided\"}), 400\n",
    "    try:\n",
    "        text = \"\"\n",
    "        with pdfplumber.open(file) as pdf:\n",
    "            for page in pdf.pages:\n",
    "                page_text = page.extract_text()\n",
    "                if page_text:\n",
    "                    text += page_text\n",
    "        if not text.strip():\n",
    "            return jsonify({\"error\": \"No readable text in the PDF\"}), 400\n",
    "        summary = summarize_text_in_chunks(text)\n",
    "        return jsonify({\"summary\": summary})\n",
    "    except Exception as e:\n",
    "        return jsonify({\"error\": str(e)}), 500\n",
    "\n",
    "@app.route('/summarize-website', methods=['POST'])\n",
    "def summarize_website():\n",
    "    data = request.json\n",
    "    url = data.get(\"url\", \"\")\n",
    "    if not url.strip():\n",
    "        return jsonify({\"error\": \"No URL provided\"}), 400\n",
    "    try:\n",
    "        response = requests.get(url)\n",
    "        response.raise_for_status()\n",
    "        soup = BeautifulSoup(response.text, 'html.parser')\n",
    "        paragraphs = soup.find_all('p')\n",
    "        content = ' '.join([p.get_text() for p in paragraphs])\n",
    "        if not content.strip():\n",
    "            return jsonify({\"error\": \"No readable content on the webpage\"}), 400\n",
    "        summary = summarize_text_in_chunks(content)\n",
    "        return jsonify({\"summary\": summary})\n",
    "    except Exception as e:\n",
    "        return jsonify({\"error\": str(e)}), 500\n",
    "\n",
    "if __name__ == \"__main__\":\n",
    "    app.run(port=5001)\n"
   ]
  }
 ],
 "metadata": {
  "kernelspec": {
   "display_name": "Python 3",
   "language": "python",
   "name": "python3"
  },
  "language_info": {
   "codemirror_mode": {
    "name": "ipython",
    "version": 3
   },
   "file_extension": ".py",
   "mimetype": "text/x-python",
   "name": "python",
   "nbconvert_exporter": "python",
   "pygments_lexer": "ipython3",
   "version": "3.12.3"
  }
 },
 "nbformat": 4,
 "nbformat_minor": 2
}
